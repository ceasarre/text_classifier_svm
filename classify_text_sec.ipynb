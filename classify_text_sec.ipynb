{
 "cells": [
  {
   "cell_type": "code",
   "execution_count": 1,
   "metadata": {},
   "outputs": [
    {
     "name": "stderr",
     "output_type": "stream",
     "text": [
      "2022-01-07 12:36:26.065344: W tensorflow/stream_executor/platform/default/dso_loader.cc:64] Could not load dynamic library 'libcudart.so.11.0'; dlerror: libcudart.so.11.0: cannot open shared object file: No such file or directory\n",
      "2022-01-07 12:36:26.065371: I tensorflow/stream_executor/cuda/cudart_stub.cc:29] Ignore above cudart dlerror if you do not have a GPU set up on your machine.\n"
     ]
    }
   ],
   "source": [
    "import tensorflow\n",
    "import tensorflow_hub as hub\n",
    "import numpy as np\n",
    "import tensorflow_text\n",
    "from clean_text import clean_text"
   ]
  },
  {
   "cell_type": "markdown",
   "metadata": {},
   "source": [
    "## Text representation byWord Embeddings Transformers -> Universal Sentence Encoder"
   ]
  },
  {
   "cell_type": "code",
   "execution_count": 2,
   "metadata": {},
   "outputs": [
    {
     "name": "stderr",
     "output_type": "stream",
     "text": [
      "2022-01-07 12:36:38.653680: W tensorflow/stream_executor/platform/default/dso_loader.cc:64] Could not load dynamic library 'libcuda.so.1'; dlerror: libcuda.so.1: cannot open shared object file: No such file or directory\n",
      "2022-01-07 12:36:38.653716: W tensorflow/stream_executor/cuda/cuda_driver.cc:269] failed call to cuInit: UNKNOWN ERROR (303)\n",
      "2022-01-07 12:36:38.653743: I tensorflow/stream_executor/cuda/cuda_diagnostics.cc:156] kernel driver does not appear to be running on this host (dac-Latitude-E7450): /proc/driver/nvidia/version does not exist\n",
      "2022-01-07 12:36:38.654046: I tensorflow/core/platform/cpu_feature_guard.cc:151] This TensorFlow binary is optimized with oneAPI Deep Neural Network Library (oneDNN) to use the following CPU instructions in performance-critical operations:  AVX2 FMA\n",
      "To enable them in other operations, rebuild TensorFlow with the appropriate compiler flags.\n"
     ]
    }
   ],
   "source": [
    "# load pretrained model\n",
    "embed = hub.load(\"https://tfhub.dev/google/universal-sentence-encoder-multilingual/3\")"
   ]
  },
  {
   "cell_type": "code",
   "execution_count": 3,
   "metadata": {},
   "outputs": [],
   "source": [
    "import string\n",
    "import re\n",
    "import preprocessor as p\n",
    "from spacy.lang.en import stop_words as spacy_stopwords  # we use spacy's list of stop words to clean our data\n",
    "\n",
    "stop_words = spacy_stopwords.STOP_WORDS\n",
    "punctuations = string.punctuation\n",
    "\n",
    "def clean(text):\n",
    "    \n",
    "    text = re.sub(r'\\W+', ' ', text)  # remove non-alphanumeric characters\n",
    "    # replace numbers with the word 'number'\n",
    "    text = re.sub(r\"\\d+\", \"number\", text)\n",
    "    # don't consider sentenced with less than 3 words (i.e. assumed noise)\n",
    "    if len(text.strip().split()) < 3:\n",
    "        return None\n",
    "    text = text.lower()  # lower case everything\n",
    "    \n",
    "    return text.strip() # remove redundant spaces"
   ]
  },
  {
   "cell_type": "code",
   "execution_count": 5,
   "metadata": {},
   "outputs": [
    {
     "name": "stdout",
     "output_type": "stream",
     "text": [
      "LABEL: rec.sport.hockey\n",
      "From: dchhabra@stpl.ists.ca (Deepak Chhabra)\n",
      "Subject: Re: Goalie masks\n",
      "Nntp-Posting-Host: stpl.ists.ca\n",
      "Organization: Solar Terresterial Physics Laboratory, ISTS\n",
      "Lines: 21\n",
      "\n",
      "In article <120666@netnews.upenn.edu> kkeller@mail.sas.upenn.edu (Keith Keller) writes:\n",
      ">My vote goes to John Vanbiesbrouck.  His mask has a skyline of New York\n",
      ">City, and on the sides there are a bunch of bees (Beezer).  It looks\n",
      ">really sharp.\n",
      "\n",
      "Funny you should mention this; one time on HNIC Don Cherry pointed out\n",
      "Vanbiesbrouck's mask.  He _hated_ it.  I think he said something to the effect\n",
      "of:\n",
      "\"You see?  He was great last year; now he goes out and gets that dopey mask \n",
      "and he can't stop a beachball!\"\n",
      "\n",
      "You may or may not take Cherry seriously at all, but I cracked up when I heard\n",
      "it.\n",
      "\n",
      "I think Ed Belfour has the current best mask in the NHL btw.  I also like\n",
      "Moog's, and I'll give Fuhr's new one an honourable mention, although I haven't\n",
      "seen it closely yet (it looked good from a distance!).  What's also neat is\n",
      "Chevaldae's in Detroit; they call him \"Chevy\" so he has two checkered flags\n",
      "painted at the top as in an auto race.\n",
      "\n",
      "\n",
      "\n",
      "from dchhabra stpl ists ca deepak chhabra subject re goalie masks nntp posting host stpl ists ca organization solar terresterial physics laboratory ists lines number in article number netnews upenn edu kkeller mail sas upenn edu keith keller writes my vote goes to john vanbiesbrouck his mask has a skyline of new york city and on the sides there are a bunch of bees beezer it looks really sharp funny you should mention this one time on hnic don cherry pointed out vanbiesbrouck s mask he _hated_ it i think he said something to the effect of you see he was great last year now he goes out and gets that dopey mask and he can t stop a beachball you may or may not take cherry seriously at all but i cracked up when i heard it i think ed belfour has the current best mask in the nhl btw i also like moog s and i ll give fuhr s new one an honourable mention although i haven t seen it closely yet it looked good from a distance what s also neat is chevaldae s in detroit they call him chevy so he has two checkered flags painted at the top as in an auto race\n"
     ]
    }
   ],
   "source": [
    "from sklearn.datasets import fetch_20newsgroups\n",
    "# Prepare data\n",
    "\n",
    "corpus = fetch_20newsgroups()\n",
    "categories = fetch_20newsgroups()[\"target_names\"]\n",
    "train_set = fetch_20newsgroups(subset = 'train', categories = categories)\n",
    "test_set = fetch_20newsgroups(subset = 'test', categories = categories)\n",
    "\n",
    "X_train = train_set.data\n",
    "y_train = train_set.target\n",
    "\n",
    "X_test = test_set.data\n",
    "y_test = test_set.target\n",
    "\n",
    "\n",
    "sample = 35\n",
    "\n",
    "# show sample of train_set\n",
    "print(\"LABEL: {}\".format(categories[y_train[sample]]))\n",
    "print(X_train[sample])\n",
    "print(clean(X_train[sample]))"
   ]
  },
  {
   "cell_type": "code",
   "execution_count": 23,
   "metadata": {},
   "outputs": [
    {
     "name": "stdout",
     "output_type": "stream",
     "text": [
      "NNTP-Posting-Host: carson.u.washington.edu\n",
      "\n",
      "A fair number of brave souls who upgraded their SI clock oscillator have\n",
      "shared their experiences for this poll. Please send a brief message detailing\n",
      "your experiences with the procedure. Top speed attained, CPU rated speed,\n",
      "add on cards and adapters, heat sinks, hour of usage per day, floppy disk\n",
      "functionality with 800 and 1.4 m floppies are especially requested.\n",
      "\n",
      "I will be summarizing in the next two days, so please add to the network\n",
      "knowledge base if you have done the clock upgrade and haven't answered this\n",
      "poll. Thanks.\n",
      "\n",
      "Guy Kuo <guykuo@u.washington.edu>\n",
      "\n"
     ]
    }
   ],
   "source": [
    "# find th header\n",
    "sample = 1\n",
    "pattern = \"(From)(.|\\n)*(: )(\\d)*(\\n)\"\n",
    "replace = \"\"\n",
    "res = re.search(pattern, X_train[sample])\n",
    "# print(X_train[sample])\n",
    "new = re.sub(pattern, replace, X_train[sample])\n",
    "print(new)"
   ]
  },
  {
   "cell_type": "markdown",
   "metadata": {},
   "source": [
    "https://www.nbshare.io/notebook/197284676/Word-Embeddings-Transformers-In-SVM-Classifier-Using-Python/ -> clue"
   ]
  },
  {
   "cell_type": "code",
   "execution_count": null,
   "metadata": {},
   "outputs": [],
   "source": []
  }
 ],
 "metadata": {
  "interpreter": {
   "hash": "b1622ea77d34425ecad25b4a1cbdcb70f1221a863c9dbfcb7c669136b365448b"
  },
  "kernelspec": {
   "display_name": "Python 3.8.12 64-bit ('studia': conda)",
   "language": "python",
   "name": "python3"
  },
  "language_info": {
   "codemirror_mode": {
    "name": "ipython",
    "version": 3
   },
   "file_extension": ".py",
   "mimetype": "text/x-python",
   "name": "python",
   "nbconvert_exporter": "python",
   "pygments_lexer": "ipython3",
   "version": "3.8.12"
  },
  "orig_nbformat": 4
 },
 "nbformat": 4,
 "nbformat_minor": 2
}
